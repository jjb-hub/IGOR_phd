{
 "cells": [
  {
   "attachments": {},
   "cell_type": "markdown",
   "metadata": {},
   "source": [
    "Patch Daddy: \n",
    "    "
   ]
  },
  {
   "cell_type": "code",
   "execution_count": null,
   "metadata": {},
   "outputs": [],
   "source": [
    "#imports, load feature df, set directory and colours\n",
    "\n",
    "%load_ext autoreload\n",
    "%autoreload 2\n",
    "\n",
    "\n",
    "from utils.helper_functions import loopCombinations, loopCombinations_stats\n",
    "from utils.plotter import drug_aplication_visualisation, plot_all_FI_curves, plot_FI_AP_curves\n",
    "from utils import igor_utils \n",
    "from ephys import ap_functions\n",
    "import openpyxl\n",
    "import pandas as pd\n",
    "import numpy as np\n",
    "import os\n",
    "import warnings\n",
    "\n",
    "#DJ?\n",
    "# os.environ[\"OMP_NUM_THREADS\"] ='3'\n",
    "# warnings.filterwarnings('ignore')\n",
    "   \n",
    "ROOT = os.getcwd() #This gives terminal location (terminal working dir)\n",
    "INPUT_DIR = f'{ROOT}/input'\n",
    "OUTPUT_DIR = f'{ROOT}/output'\n",
    "\n",
    "feature_df = pd.read_excel (f'{INPUT_DIR}/feature_df_py.xlsx') \n",
    "\n",
    "data_path = f'{INPUT_DIR}/PatchData/' #THIS IS HARD CODED INTO make_path(file_folder)\n",
    "\n",
    "color_dict = {\"PRE\":\"black\", \"CONTROL\": 'grey', \"TCB2\":'green', \"DMT\":\"teal\", \"PSIL\":\"orange\", \"LSD\":\"purple\", \"MDL\":'blue'} "
   ]
  },
  {
   "cell_type": "code",
   "execution_count": null,
   "metadata": {},
   "outputs": [],
   "source": [
    "#Trace Plotting\n",
    "drug_aplication_visualisation(feature_df, color_dict) # generates PDF of drug aplications # in plotters in utils\n",
    "\n",
    "plot_all_FI_curves(feature_df,  color_dict)  # generates PDF with all FI curves for single cell labed with drug and aplication order #### MAKE HZ NOT APs per sweep also isnt it in pA not nA??\n",
    "\n",
    "plot_FI_AP_curves(feature_df) #generated PDF with FI-AP for each cell\n"
   ]
  }
 ],
 "metadata": {
  "language_info": {
   "name": "python"
  },
  "orig_nbformat": 4
 },
 "nbformat": 4,
 "nbformat_minor": 2
}

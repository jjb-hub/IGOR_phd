{
 "cells": [
  {
   "attachments": {},
   "cell_type": "markdown",
   "metadata": {},
   "source": [
    "Patch Daddy: \n",
    "\n",
    "TO DO\n",
    "    outlier checks pre stats (AP width terrible)\n",
    "    tau and sage for analysis extraction for comparison of like values i.e. same I injection\n",
    "    build IV curves for pre and post drug aplication\n",
    "    set up cache for figures as svg rather than pdf (should fix drug_aplication_visualisation() )\n",
    "    plot and analise pAD \n",
    "    check pAD labeling and generate plots\n",
    "    handel if drug in/out is not specificed in AP file ... e.g control / put other data_type pAD to analise pAD from -100mV \n",
    "    helper_functions.py rename to builders.py\n",
    "    loopCombinations() rename !\n",
    "    igor_utils.py rename to base_utils.py\n",
    "    "
   ]
  },
  {
   "cell_type": "code",
   "execution_count": 1,
   "metadata": {},
   "outputs": [],
   "source": [
    "#imports, load feature df, set directory and colours\n",
    "\n",
    "# %load_ext autoreload\n",
    "# %autoreload 2\n",
    "\n",
    "\n",
    "from utils.helper_functions import loopCombinations, loopCombinations_stats\n",
    "from utils.plotter import drug_aplication_visualisation, plot_all_FI_curves, plot_FI_AP_curves\n",
    "from utils import igor_utils \n",
    "from ephys import ap_functions\n",
    "import openpyxl\n",
    "import pandas as pd\n",
    "import numpy as np\n",
    "import os\n",
    "import warnings\n",
    "\n",
    "#DJ?\n",
    "# os.environ[\"OMP_NUM_THREADS\"] ='3'\n",
    "# warnings.filterwarnings('ignore')\n",
    "   \n",
    "ROOT = os.getcwd() #This gives terminal location (terminal working dir)\n",
    "INPUT_DIR = f'{ROOT}/input'\n",
    "OUTPUT_DIR = f'{ROOT}/output'\n",
    "\n",
    "feature_df = pd.read_excel (f'{INPUT_DIR}/feature_df_py.xlsx') \n",
    "\n",
    "data_path = f'{INPUT_DIR}/PatchData/' #THIS IS HARD CODED INTO make_path(file_folder)\n",
    "\n",
    "color_dict = {\"PRE\":\"black\", \"CONTROL\": 'grey', \"TCB2\":'green', \"DMT\":\"teal\", \"PSIL\":\"orange\", \"LSD\":\"purple\", \"MDL\":'blue'} "
   ]
  },
  {
   "cell_type": "code",
   "execution_count": 2,
   "metadata": {},
   "outputs": [],
   "source": [
    "#Initial Trace Plotting\n",
    "\n",
    "#not working as run out of active memeory change pdf style to .svg and cashe \n",
    "# drug_aplication_visualisation(feature_df, {OUTPUT_DIR}, color_dict) # generates PDF of drug aplications # in plotters in utils\n",
    "\n",
    "# plot_all_FI_curves(feature_df,  color_dict)  # generates PDF with all FI curves for single cell labed with drug and aplication order #### MAKE HZ NOT APs per sweep also isnt it in pA not nA??\n",
    "\n",
    "# plot_FI_AP_curves(feature_df) #generated PDF with FI-AP for each cell\n"
   ]
  },
  {
   "cell_type": "code",
   "execution_count": 3,
   "metadata": {},
   "outputs": [
    {
     "name": "stdout",
     "output_type": "stream",
     "text": [
      "FP type file\n",
      "JJB210406/t8\n",
      "FP type file\n",
      "JJB210406/t9\n",
      "FP type file\n",
      "JJB210406/t10\n",
      "AP type file\n",
      "JJB210406/t11\n"
     ]
    },
    {
     "ename": "KeyboardInterrupt",
     "evalue": "",
     "output_type": "error",
     "traceback": [
      "\u001b[0;31m---------------------------------------------------------------------------\u001b[0m",
      "\u001b[0;31mKeyboardInterrupt\u001b[0m                         Traceback (most recent call last)",
      "Cell \u001b[0;32mIn[3], line 3\u001b[0m\n\u001b[1;32m      1\u001b[0m \u001b[39m#expand feature df extracting metrics for each file: \u001b[39;00m\n\u001b[1;32m      2\u001b[0m feature_df_ex \u001b[39m=\u001b[39m feature_df\u001b[39m.\u001b[39mcopy()\n\u001b[0;32m----> 3\u001b[0m feature_df_expanded_raw \u001b[39m=\u001b[39m loopCombinations(feature_df_ex)  \u001b[39m#in helper functions #check dif in make_path and passing of directory\u001b[39;00m\n\u001b[1;32m      5\u001b[0m feature_df_expanded_raw\u001b[39m.\u001b[39mto_pickle(\u001b[39mf\u001b[39m\u001b[39m'\u001b[39m\u001b[39m{\u001b[39;00mOUTPUT_DIR\u001b[39m}\u001b[39;00m\u001b[39m/feature_df_ecpanded_raw.pkl\u001b[39m\u001b[39m'\u001b[39m)\n\u001b[1;32m      6\u001b[0m feature_df_expanded_raw_pkl\u001b[39m=\u001b[39m pd\u001b[39m.\u001b[39mread_pickle(\u001b[39mf\u001b[39m\u001b[39m'\u001b[39m\u001b[39m{\u001b[39;00mOUTPUT_DIR\u001b[39m}\u001b[39;00m\u001b[39m/feature_df_ecpanded_raw.pkl\u001b[39m\u001b[39m'\u001b[39m)\n",
      "File \u001b[0;32m~/Desktop/IGOR_phd/utils/helper_functions.py:136\u001b[0m, in \u001b[0;36mloopCombinations\u001b[0;34m(df)\u001b[0m\n\u001b[1;32m    133\u001b[0m df[\u001b[39m'\u001b[39m\u001b[39mmouseline\u001b[39m\u001b[39m'\u001b[39m] \u001b[39m=\u001b[39m df\u001b[39m.\u001b[39mcell_ID\u001b[39m.\u001b[39mstr[:\u001b[39m3\u001b[39m]\n\u001b[1;32m    134\u001b[0m \u001b[39m# print(\"Columns: \", df.columns[-40:])\u001b[39;00m\n\u001b[1;32m    135\u001b[0m \u001b[39m# df = pd.read_excel(r'E:\\OneDrive - Floating Reality\\analysis\\feature_df_py.xlsx')\u001b[39;00m\n\u001b[0;32m--> 136\u001b[0m df \u001b[39m=\u001b[39m df\u001b[39m.\u001b[39;49mapply(_handleFile, axis\u001b[39m=\u001b[39;49m\u001b[39m1\u001b[39;49m) \u001b[39m#Apply a function along an axis (rows = 1) of the DataFrame\u001b[39;00m\n\u001b[1;32m    138\u001b[0m \u001b[39m#ORDERING DF internal: like this new columns added will appear at the end of the df in the order they were created in _handelfile()\u001b[39;00m\n\u001b[1;32m    139\u001b[0m all_cur_columns \u001b[39m=\u001b[39m df\u001b[39m.\u001b[39mcolumns\u001b[39m.\u001b[39mcopy()\n",
      "File \u001b[0;32m~/Desktop/IGOR_phd/.venv/lib/python3.8/site-packages/pandas/core/frame.py:8848\u001b[0m, in \u001b[0;36mDataFrame.apply\u001b[0;34m(self, func, axis, raw, result_type, args, **kwargs)\u001b[0m\n\u001b[1;32m   8837\u001b[0m \u001b[39mfrom\u001b[39;00m \u001b[39mpandas\u001b[39;00m\u001b[39m.\u001b[39;00m\u001b[39mcore\u001b[39;00m\u001b[39m.\u001b[39;00m\u001b[39mapply\u001b[39;00m \u001b[39mimport\u001b[39;00m frame_apply\n\u001b[1;32m   8839\u001b[0m op \u001b[39m=\u001b[39m frame_apply(\n\u001b[1;32m   8840\u001b[0m     \u001b[39mself\u001b[39m,\n\u001b[1;32m   8841\u001b[0m     func\u001b[39m=\u001b[39mfunc,\n\u001b[0;32m   (...)\u001b[0m\n\u001b[1;32m   8846\u001b[0m     kwargs\u001b[39m=\u001b[39mkwargs,\n\u001b[1;32m   8847\u001b[0m )\n\u001b[0;32m-> 8848\u001b[0m \u001b[39mreturn\u001b[39;00m op\u001b[39m.\u001b[39;49mapply()\u001b[39m.\u001b[39m__finalize__(\u001b[39mself\u001b[39m, method\u001b[39m=\u001b[39m\u001b[39m\"\u001b[39m\u001b[39mapply\u001b[39m\u001b[39m\"\u001b[39m)\n",
      "File \u001b[0;32m~/Desktop/IGOR_phd/.venv/lib/python3.8/site-packages/pandas/core/apply.py:733\u001b[0m, in \u001b[0;36mFrameApply.apply\u001b[0;34m(self)\u001b[0m\n\u001b[1;32m    730\u001b[0m \u001b[39melif\u001b[39;00m \u001b[39mself\u001b[39m\u001b[39m.\u001b[39mraw:\n\u001b[1;32m    731\u001b[0m     \u001b[39mreturn\u001b[39;00m \u001b[39mself\u001b[39m\u001b[39m.\u001b[39mapply_raw()\n\u001b[0;32m--> 733\u001b[0m \u001b[39mreturn\u001b[39;00m \u001b[39mself\u001b[39;49m\u001b[39m.\u001b[39;49mapply_standard()\n",
      "File \u001b[0;32m~/Desktop/IGOR_phd/.venv/lib/python3.8/site-packages/pandas/core/apply.py:857\u001b[0m, in \u001b[0;36mFrameApply.apply_standard\u001b[0;34m(self)\u001b[0m\n\u001b[1;32m    856\u001b[0m \u001b[39mdef\u001b[39;00m \u001b[39mapply_standard\u001b[39m(\u001b[39mself\u001b[39m):\n\u001b[0;32m--> 857\u001b[0m     results, res_index \u001b[39m=\u001b[39m \u001b[39mself\u001b[39;49m\u001b[39m.\u001b[39;49mapply_series_generator()\n\u001b[1;32m    859\u001b[0m     \u001b[39m# wrap results\u001b[39;00m\n\u001b[1;32m    860\u001b[0m     \u001b[39mreturn\u001b[39;00m \u001b[39mself\u001b[39m\u001b[39m.\u001b[39mwrap_results(results, res_index)\n",
      "File \u001b[0;32m~/Desktop/IGOR_phd/.venv/lib/python3.8/site-packages/pandas/core/apply.py:873\u001b[0m, in \u001b[0;36mFrameApply.apply_series_generator\u001b[0;34m(self)\u001b[0m\n\u001b[1;32m    870\u001b[0m \u001b[39mwith\u001b[39;00m option_context(\u001b[39m\"\u001b[39m\u001b[39mmode.chained_assignment\u001b[39m\u001b[39m\"\u001b[39m, \u001b[39mNone\u001b[39;00m):\n\u001b[1;32m    871\u001b[0m     \u001b[39mfor\u001b[39;00m i, v \u001b[39min\u001b[39;00m \u001b[39menumerate\u001b[39m(series_gen):\n\u001b[1;32m    872\u001b[0m         \u001b[39m# ignore SettingWithCopy here in case the user mutates\u001b[39;00m\n\u001b[0;32m--> 873\u001b[0m         results[i] \u001b[39m=\u001b[39m \u001b[39mself\u001b[39;49m\u001b[39m.\u001b[39;49mf(v)\n\u001b[1;32m    874\u001b[0m         \u001b[39mif\u001b[39;00m \u001b[39misinstance\u001b[39m(results[i], ABCSeries):\n\u001b[1;32m    875\u001b[0m             \u001b[39m# If we have a view on v, we need to make a copy because\u001b[39;00m\n\u001b[1;32m    876\u001b[0m             \u001b[39m#  series_generator will swap out the underlying data\u001b[39;00m\n\u001b[1;32m    877\u001b[0m             results[i] \u001b[39m=\u001b[39m results[i]\u001b[39m.\u001b[39mcopy(deep\u001b[39m=\u001b[39m\u001b[39mFalse\u001b[39;00m)\n",
      "\u001b[0;31mKeyboardInterrupt\u001b[0m: "
     ]
    }
   ],
   "source": [
    "#expand feature df extracting metrics for each file: \n",
    "feature_df_ex = feature_df.copy()\n",
    "feature_df_expanded_raw = loopCombinations(feature_df_ex)  #in helper functions #check dif in make_path and passing of directory\n",
    "\n",
    "feature_df_expanded_raw.to_pickle(f'{OUTPUT_DIR}/feature_df_ecpanded_raw.pkl')\n",
    "feature_df_expanded_raw_pkl= pd.read_pickle(f'{OUTPUT_DIR}/feature_df_ecpanded_raw.pkl')\n",
    "\n",
    "\n"
   ]
  },
  {
   "cell_type": "code",
   "execution_count": null,
   "metadata": {},
   "outputs": [],
   "source": [
    "#taking expanded df and doing stats and making figures\n",
    "\n",
    "multi_page_pdf = None #https://matplotlib.org/stable/gallery/misc/multipage_pdf.html\n",
    "feature_df_expanded_stats = loopCombinations_stats(feature_df_expanded_raw, OUTPUT_DIR, color_dict)\n",
    "\n"
   ]
  }
 ],
 "metadata": {
  "kernelspec": {
   "display_name": ".venv",
   "language": "python",
   "name": "python3"
  },
  "language_info": {
   "codemirror_mode": {
    "name": "ipython",
    "version": 3
   },
   "file_extension": ".py",
   "mimetype": "text/x-python",
   "name": "python",
   "nbconvert_exporter": "python",
   "pygments_lexer": "ipython3",
   "version": "3.8.2"
  },
  "orig_nbformat": 4
 },
 "nbformat": 4,
 "nbformat_minor": 2
}
